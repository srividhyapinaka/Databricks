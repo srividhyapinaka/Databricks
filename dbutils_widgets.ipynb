{
 "cells": [
  {
   "cell_type": "markdown",
   "metadata": {
    "application/vnd.databricks.v1+cell": {
     "cellMetadata": {},
     "inputWidgets": {},
     "nuid": "b7143ad4-6f03-401b-a409-ec7765d6cc30",
     "showTitle": false,
     "tableResultSettingsMap": {},
     "title": ""
    }
   },
   "source": [
    "### The purpose of widgets in Databricks is to provide interactive controls for notebooks, enabling parameterized and dynamic workflows. Widgets allow users to input values, make selections, or interact with the notebook without needing to modify the underlying code. This enhances usability, encourages reusability, and simplifies tasks such as running the same notebook with different configurations or inputs."
   ]
  },
  {
   "cell_type": "code",
   "execution_count": 0,
   "metadata": {
    "application/vnd.databricks.v1+cell": {
     "cellMetadata": {
      "byteLimit": 2048000,
      "rowLimit": 10000
     },
     "inputWidgets": {},
     "nuid": "c9cf09ee-e519-47a8-bffd-be6b3b3beeb6",
     "showTitle": false,
     "tableResultSettingsMap": {},
     "title": ""
    }
   },
   "outputs": [
    {
     "output_type": "display_data",
     "data": {
      "text/html": [
       "<div class = \"ansiout\"><b>dbutils.widgets</b> provides utilities for working with notebook widgets. You can create\n",
       "different types of widgets and get their bound value.\n",
       "\n",
       "For more info about a method, use <b>dbutils.widgets.help(\"methodName\")</b>.\n",
       "    <h3></h3><b>combobox(name: String, defaultValue: String, choices: Seq, label: String): void</b> -> Creates a combobox input widget with a given name, default value and choices<br /><b>dropdown(name: String, defaultValue: String, choices: Seq, label: String): void</b> -> Creates a dropdown input widget a with given name, default value and choices<br /><b>get(name: String): String</b> -> Retrieves current value of an input widget<br /><b>getArgument(name: String, optional: String): String</b> -> (DEPRECATED) Equivalent to get<br /><b>multiselect(name: String, defaultValue: String, choices: Seq, label: String): void</b> -> Creates a multiselect input widget with a given name, default value and choices<br /><b>remove(name: String): void</b> -> Removes an input widget from the notebook<br /><b>removeAll: void</b> -> Removes all widgets in the notebook<br /><b>text(name: String, defaultValue: String, label: String): void</b> -> Creates a text input widget with a given name and default value<br /><br /></div>"
      ]
     },
     "metadata": {
      "application/vnd.databricks.v1+output": {
       "addedWidgets": {},
       "arguments": {},
       "data": "<div class = \"ansiout\"><b>dbutils.widgets</b> provides utilities for working with notebook widgets. You can create\ndifferent types of widgets and get their bound value.\n\nFor more info about a method, use <b>dbutils.widgets.help(\"methodName\")</b>.\n    <h3></h3><b>combobox(name: String, defaultValue: String, choices: Seq, label: String): void</b> -> Creates a combobox input widget with a given name, default value and choices<br /><b>dropdown(name: String, defaultValue: String, choices: Seq, label: String): void</b> -> Creates a dropdown input widget a with given name, default value and choices<br /><b>get(name: String): String</b> -> Retrieves current value of an input widget<br /><b>getArgument(name: String, optional: String): String</b> -> (DEPRECATED) Equivalent to get<br /><b>multiselect(name: String, defaultValue: String, choices: Seq, label: String): void</b> -> Creates a multiselect input widget with a given name, default value and choices<br /><b>remove(name: String): void</b> -> Removes an input widget from the notebook<br /><b>removeAll: void</b> -> Removes all widgets in the notebook<br /><b>text(name: String, defaultValue: String, label: String): void</b> -> Creates a text input widget with a given name and default value<br /><br /></div>",
       "datasetInfos": [],
       "metadata": {},
       "removedWidgets": [],
       "textData": null,
       "type": "htmlSandbox"
      }
     },
     "output_type": "display_data"
    }
   ],
   "source": [
    "dbutils.widgets.help()"
   ]
  },
  {
   "cell_type": "markdown",
   "metadata": {
    "application/vnd.databricks.v1+cell": {
     "cellMetadata": {},
     "inputWidgets": {},
     "nuid": "328037e3-c758-4609-825d-df21c35be60f",
     "showTitle": false,
     "tableResultSettingsMap": {},
     "title": ""
    }
   },
   "source": [
    "### The dbutils.widgets.text widget in Databricks allows users to input free-form text values, which can be used to parameterize notebooks, pipelines, or other workflows. This flexibility makes it useful for dynamic configurations, user-defined values, or any scenario where predefined options (like dropdowns) aren't suitable."
   ]
  },
  {
   "cell_type": "code",
   "execution_count": 0,
   "metadata": {
    "application/vnd.databricks.v1+cell": {
     "cellMetadata": {
      "byteLimit": 2048000,
      "rowLimit": 10000
     },
     "inputWidgets": {},
     "nuid": "60cf7d9d-13fa-4945-9e9f-dd3213b616e3",
     "showTitle": false,
     "tableResultSettingsMap": {},
     "title": ""
    }
   },
   "outputs": [],
   "source": [
    "dbutils.widgets.text('select country','India',label= 'country')"
   ]
  },
  {
   "cell_type": "markdown",
   "metadata": {
    "application/vnd.databricks.v1+cell": {
     "cellMetadata": {},
     "inputWidgets": {},
     "nuid": "e4b60ba8-91b5-413b-9319-0c39fe3953c0",
     "showTitle": false,
     "tableResultSettingsMap": {},
     "title": ""
    }
   },
   "source": [
    "### The dbutils.widgets.dropdown feature in Databricks is particularly useful for creating interactive notebooks by providing users with a predefined set of options to choose from. This ensures controlled inputs and allows you to parameterize workflows effectively."
   ]
  },
  {
   "cell_type": "code",
   "execution_count": 0,
   "metadata": {
    "application/vnd.databricks.v1+cell": {
     "cellMetadata": {
      "byteLimit": 2048000,
      "rowLimit": 10000
     },
     "inputWidgets": {},
     "nuid": "5bf9c046-e45a-4922-9da1-0608ae1ab6f5",
     "showTitle": false,
     "tableResultSettingsMap": {},
     "title": ""
    }
   },
   "outputs": [],
   "source": [
    "dbutils.widgets.dropdown('select state','AP',['AP','KA','TN'],label= 'state')"
   ]
  },
  {
   "cell_type": "markdown",
   "metadata": {
    "application/vnd.databricks.v1+cell": {
     "cellMetadata": {},
     "inputWidgets": {},
     "nuid": "0d44f6aa-33e7-43f0-bb88-3ce7bd96173e",
     "showTitle": false,
     "tableResultSettingsMap": {},
     "title": ""
    }
   },
   "source": [
    "### The dbutils.widgets.combobox widget in Databricks is a combination of a text input and a dropdown menu. It allows users to either select a value from a predefined list or input their own custom value. This makes it especially versatile for scenarios where you want to provide a set of common choices but also allow flexibility for custom inputs."
   ]
  },
  {
   "cell_type": "code",
   "execution_count": 0,
   "metadata": {
    "application/vnd.databricks.v1+cell": {
     "cellMetadata": {
      "byteLimit": 2048000,
      "rowLimit": 10000
     },
     "inputWidgets": {},
     "nuid": "d1d9a177-1467-43a2-a4ea-2df58cc18048",
     "showTitle": false,
     "tableResultSettingsMap": {},
     "title": ""
    }
   },
   "outputs": [],
   "source": [
    "dbutils.widgets.combobox(\"Payment Mode\", \"Others\",[\"Cash\",\"UPI\",\"Card\"], label= 'payments')"
   ]
  },
  {
   "cell_type": "markdown",
   "metadata": {
    "application/vnd.databricks.v1+cell": {
     "cellMetadata": {},
     "inputWidgets": {},
     "nuid": "de63b711-f6b3-4161-bf22-d817c2dd01e0",
     "showTitle": false,
     "tableResultSettingsMap": {},
     "title": ""
    }
   },
   "source": [
    "### The dbutils.widgets.multiselect widget in Databricks allows users to select multiple values from a predefined list. It is particularly useful for workflows that require selecting multiple options for filtering, configuration, or parameterization."
   ]
  },
  {
   "cell_type": "code",
   "execution_count": 0,
   "metadata": {
    "application/vnd.databricks.v1+cell": {
     "cellMetadata": {
      "byteLimit": 2048000,
      "rowLimit": 10000
     },
     "inputWidgets": {},
     "nuid": "18ddcb3c-b59b-4d01-a86e-ca271c530ffc",
     "showTitle": false,
     "tableResultSettingsMap": {},
     "title": ""
    }
   },
   "outputs": [],
   "source": [
    "dbutils.widgets.multiselect(\"schedule\", \"Daily\",[\"Daily\",\"Weekly\",\"Monthly\",\"Yearly\"],label= 'multi-select')"
   ]
  },
  {
   "cell_type": "markdown",
   "metadata": {
    "application/vnd.databricks.v1+cell": {
     "cellMetadata": {},
     "inputWidgets": {},
     "nuid": "0b8dad3e-f234-49f5-bfca-f905509617d8",
     "showTitle": false,
     "tableResultSettingsMap": {},
     "title": ""
    }
   },
   "source": [
    "### The dbutils.widgets.get method in Databricks retrieves the value of a widget created in the notebook. This value is dynamically set based on the user input or selection, and you can use it in your code for parameterizing workflows, queries, or data processing."
   ]
  },
  {
   "cell_type": "code",
   "execution_count": 0,
   "metadata": {
    "application/vnd.databricks.v1+cell": {
     "cellMetadata": {
      "byteLimit": 2048000,
      "rowLimit": 10000
     },
     "inputWidgets": {},
     "nuid": "1d2c7695-8f50-4672-ab9a-46a3ec135094",
     "showTitle": false,
     "tableResultSettingsMap": {},
     "title": ""
    }
   },
   "outputs": [],
   "source": [
    "text_output = dbutils.widgets.get(\"select country\")"
   ]
  },
  {
   "cell_type": "code",
   "execution_count": 0,
   "metadata": {
    "application/vnd.databricks.v1+cell": {
     "cellMetadata": {
      "byteLimit": 2048000,
      "rowLimit": 10000
     },
     "inputWidgets": {},
     "nuid": "3de9801a-7ac7-485e-a3ee-6101c4b5936e",
     "showTitle": false,
     "tableResultSettingsMap": {},
     "title": ""
    }
   },
   "outputs": [
    {
     "output_type": "stream",
     "name": "stdout",
     "output_type": "stream",
     "text": [
      "India\n"
     ]
    }
   ],
   "source": [
    "print(text_output)"
   ]
  }
 ],
 "metadata": {
  "application/vnd.databricks.v1+notebook": {
   "computePreferences": null,
   "dashboards": [],
   "environmentMetadata": {
    "base_environment": "",
    "environment_version": "1"
   },
   "inputWidgetPreferences": null,
   "language": "python",
   "notebookMetadata": {
    "pythonIndentUnit": 4
   },
   "notebookName": "dbutils_widgets",
   "widgets": {
    "Payment Mode": {
     "currentValue": "Online",
     "nuid": "8fb443e2-4bb9-4784-9183-f57ec6144938",
     "typedWidgetInfo": {
      "autoCreated": false,
      "defaultValue": "Others",
      "label": "payments",
      "name": "Payment Mode",
      "options": {
       "widgetDisplayType": "Dropdown",
       "choices": [
        "Cash",
        "UPI",
        "Card"
       ],
       "fixedDomain": false,
       "multiselect": false
      },
      "parameterDataType": "String"
     },
     "widgetInfo": {
      "widgetType": "combobox",
      "defaultValue": "Others",
      "label": "payments",
      "name": "Payment Mode",
      "options": {
       "widgetType": "dropdown",
       "autoCreated": null,
       "choices": [
        "Cash",
        "UPI",
        "Card"
       ]
      }
     }
    },
    "schedule": {
     "currentValue": "Weekly,Daily",
     "nuid": "df497187-afff-4bf9-8411-a2dc7d696b1c",
     "typedWidgetInfo": {
      "autoCreated": false,
      "defaultValue": "Daily",
      "label": "multi-select",
      "name": "schedule",
      "options": {
       "widgetDisplayType": "Dropdown",
       "choices": [
        "Daily",
        "Weekly",
        "Monthly",
        "Yearly"
       ],
       "fixedDomain": true,
       "multiselect": true
      },
      "parameterDataType": "String"
     },
     "widgetInfo": {
      "widgetType": "multiselect",
      "defaultValue": "Daily",
      "label": "multi-select",
      "name": "schedule",
      "options": {
       "widgetType": "dropdown",
       "autoCreated": null,
       "choices": [
        "Daily",
        "Weekly",
        "Monthly",
        "Yearly"
       ]
      }
     }
    },
    "select country": {
     "currentValue": "India",
     "nuid": "d1929bb5-83e7-485b-ade2-eac6accf6d3f",
     "typedWidgetInfo": {
      "autoCreated": false,
      "defaultValue": "India",
      "label": "country",
      "name": "select country",
      "options": {
       "widgetDisplayType": "Text",
       "validationRegex": null
      },
      "parameterDataType": "String"
     },
     "widgetInfo": {
      "widgetType": "text",
      "defaultValue": "India",
      "label": "country",
      "name": "select country",
      "options": {
       "widgetType": "text",
       "autoCreated": null,
       "validationRegex": null
      }
     }
    },
    "select state": {
     "currentValue": "AP",
     "nuid": "88850abf-759d-4efb-9ab2-435b8e832d43",
     "typedWidgetInfo": {
      "autoCreated": false,
      "defaultValue": "AP",
      "label": "state",
      "name": "select state",
      "options": {
       "widgetDisplayType": "Dropdown",
       "choices": [
        "AP",
        "KA",
        "TN"
       ],
       "fixedDomain": true,
       "multiselect": false
      },
      "parameterDataType": "String"
     },
     "widgetInfo": {
      "widgetType": "dropdown",
      "defaultValue": "AP",
      "label": "state",
      "name": "select state",
      "options": {
       "widgetType": "dropdown",
       "autoCreated": false,
       "choices": [
        "AP",
        "KA",
        "TN"
       ]
      }
     }
    }
   }
  }
 },
 "nbformat": 4,
 "nbformat_minor": 0
}