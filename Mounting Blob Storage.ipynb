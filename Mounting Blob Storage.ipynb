{
 "cells": [
  {
   "cell_type": "markdown",
   "metadata": {
    "application/vnd.databricks.v1+cell": {
     "cellMetadata": {},
     "inputWidgets": {},
     "nuid": "674b1d20-3d90-4917-bc15-a9296640c12f",
     "showTitle": false,
     "tableResultSettingsMap": {},
     "title": ""
    }
   },
   "source": [
    "# Mounting Blob Storage"
   ]
  },
  {
   "cell_type": "code",
   "execution_count": 0,
   "metadata": {
    "application/vnd.databricks.v1+cell": {
     "cellMetadata": {
      "byteLimit": 2048000,
      "rowLimit": 10000
     },
     "inputWidgets": {},
     "nuid": "87ba1635-9311-440d-a74c-9e7898fafcd6",
     "showTitle": false,
     "tableResultSettingsMap": {},
     "title": ""
    }
   },
   "outputs": [
    {
     "output_type": "display_data",
     "data": {
      "text/html": [
       "<style scoped>\n",
       "  .ansiout {\n",
       "    display: block;\n",
       "    unicode-bidi: embed;\n",
       "    white-space: pre-wrap;\n",
       "    word-wrap: break-word;\n",
       "    word-break: break-all;\n",
       "    font-family: \"Menlo\", \"Monaco\", \"Consolas\", \"Ubuntu Mono\", \"Source Code Pro\", monospace;\n",
       "    font-size: 13px;\n",
       "    color: #555;\n",
       "    margin-left: 4px;\n",
       "    line-height: 19px;\n",
       "  }\n",
       "</style>\n",
       "<div class=\"ansiout\">containerName: String = input\n",
       "storageAccountName: String = databricksblobstorageacc\n",
       "sas: String = sv=2024-11-04&amp;ss=bfqt&amp;srt=sco&amp;sp=rwdlacupiytfx&amp;se=2025-05-20T15:42:16Z&amp;st=2025-04-20T07:42:16Z&amp;spr=https&amp;sig=QE990TVPjuWJrXvl2Se7TjQNpVqsW%2FspXbWG1bqb45g%3D\n",
       "config: String = fs.azure.sas.input.databricksblobstorageacc.blob.core.windows.net\n",
       "res0: Boolean = true\n",
       "</div>"
      ]
     },
     "metadata": {
      "application/vnd.databricks.v1+output": {
       "addedWidgets": {},
       "arguments": {},
       "data": "<div class=\"ansiout\">containerName: String = input\nstorageAccountName: String = databricksblobstorageacc\nsas: String = sv=2024-11-04&amp;ss=bfqt&amp;srt=sco&amp;sp=rwdlacupiytfx&amp;se=2025-05-20T15:42:16Z&amp;st=2025-04-20T07:42:16Z&amp;spr=https&amp;sig=QE990TVPjuWJrXvl2Se7TjQNpVqsW%2FspXbWG1bqb45g%3D\nconfig: String = fs.azure.sas.input.databricksblobstorageacc.blob.core.windows.net\nres0: Boolean = true\n</div>",
       "datasetInfos": [],
       "metadata": {
        "isDbfsCommandResult": false
       },
       "removedWidgets": [],
       "type": "html"
      }
     },
     "output_type": "display_data"
    }
   ],
   "source": [
    "\n",
    "%scala\n",
    "val containerName = \"input\"\n",
    "val storageAccountName = \"databricksblobstorageacc\"\n",
    "val sas = \"sv=2024-11-04&ss=bfqt&srt=sco&sp=rwdlacupiytfx&se=2025-05-20T15:42:16Z&st=2025-04-20T07:42:16Z&spr=https&sig=QE990TVPjuWJrXvl2Se7TjQNpVqsW%2FspXbWG1bqb45g%3D\"\n",
    "val config = \"fs.azure.sas.\" + containerName+ \".\" + storageAccountName + \".blob.core.windows.net\"\n",
    "\n",
    "dbutils.fs.mount(\n",
    "  source = \"wasbs://input@databricksblobstorageacc.blob.core.windows.net/\",\n",
    "  mountPoint = \"/mnt/inputapril\",\n",
    "  extraConfigs = Map(config -> sas))"
   ]
  }
 ],
 "metadata": {
  "application/vnd.databricks.v1+notebook": {
   "computePreferences": null,
   "dashboards": [],
   "environmentMetadata": {
    "base_environment": "",
    "environment_version": "1"
   },
   "inputWidgetPreferences": null,
   "language": "python",
   "notebookMetadata": {
    "pythonIndentUnit": 4
   },
   "notebookName": "Mounting Blob Storage",
   "widgets": {}
  }
 },
 "nbformat": 4,
 "nbformat_minor": 0
}