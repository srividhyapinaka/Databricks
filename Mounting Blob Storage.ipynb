{
 "cells": [
  {
   "cell_type": "markdown",
   "metadata": {
    "application/vnd.databricks.v1+cell": {
     "cellMetadata": {},
     "inputWidgets": {},
     "nuid": "674b1d20-3d90-4917-bc15-a9296640c12f",
     "showTitle": false,
     "tableResultSettingsMap": {},
     "title": ""
    }
   },
   "source": [
    "# Mounting Blob Storage"
   ]
  },
  {
   "cell_type": "code",
   "execution_count": 0,
   "metadata": {
    "application/vnd.databricks.v1+cell": {
     "cellMetadata": {
      "byteLimit": 2048000,
      "rowLimit": 10000
     },
     "inputWidgets": {},
     "nuid": "87ba1635-9311-440d-a74c-9e7898fafcd6",
     "showTitle": false,
     "tableResultSettingsMap": {},
     "title": ""
    }
   },
   "outputs": [
    {
     "output_type": "display_data",
     "data": {
      "text/html": [
       "<style scoped>\n",
       "  .ansiout {\n",
       "    display: block;\n",
       "    unicode-bidi: embed;\n",
       "    white-space: pre-wrap;\n",
       "    word-wrap: break-word;\n",
       "    word-break: break-all;\n",
       "    font-family: \"Menlo\", \"Monaco\", \"Consolas\", \"Ubuntu Mono\", \"Source Code Pro\", monospace;\n",
       "    font-size: 13px;\n",
       "    color: #555;\n",
       "    margin-left: 4px;\n",
       "    line-height: 19px;\n",
       "  }\n",
       "</style>\n",
       "<div class=\"ansiout\">containerName: String = input\n",
       "storageAccountName: String = databricksblobstorageacc\n",
       "sas: String = sv=2024-11-04&amp;ss=bfqt&amp;srt=sco&amp;sp=rwdlacupiytfx&amp;se=2025-05-20T15:42:16Z&amp;st=2025-04-20T07:42:16Z&amp;spr=https&amp;sig=QE990TVPjuWJrXvl2Se7TjQNpVqsW%2FspXbWG1bqb45g%3D\n",
       "config: String = fs.azure.sas.input.databricksblobstorageacc.blob.core.windows.net\n",
       "res0: Boolean = true\n",
       "</div>"
      ]
     },
     "metadata": {
      "application/vnd.databricks.v1+output": {
       "addedWidgets": {},
       "arguments": {},
       "data": "<div class=\"ansiout\">containerName: String = input\nstorageAccountName: String = databricksblobstorageacc\nsas: String = sv=2024-11-04&amp;ss=bfqt&amp;srt=sco&amp;sp=rwdlacupiytfx&amp;se=2025-05-20T15:42:16Z&amp;st=2025-04-20T07:42:16Z&amp;spr=https&amp;sig=QE990TVPjuWJrXvl2Se7TjQNpVqsW%2FspXbWG1bqb45g%3D\nconfig: String = fs.azure.sas.input.databricksblobstorageacc.blob.core.windows.net\nres0: Boolean = true\n</div>",
       "datasetInfos": [],
       "metadata": {
        "isDbfsCommandResult": false
       },
       "removedWidgets": [],
       "type": "html"
      }
     },
     "output_type": "display_data"
    }
   ],
   "source": [
    "\n",
    "%scala\n",
    "val containerName = \"input\"\n",
    "val storageAccountName = \"databricksblobstorageacc\"\n",
    "val sas = \"sv=2024-11-04&ss=bfqt&srt=sco&sp=rwdlacupiytfx&se=2025-05-20T15:42:16Z&st=2025-04-20T07:42:16Z&spr=https&sig=QE990TVPjuWJrXvl2Se7TjQNpVqsW%2FspXbWG1bqb45g%3D\"\n",
    "val config = \"fs.azure.sas.\" + containerName+ \".\" + storageAccountName + \".blob.core.windows.net\"\n",
    "\n",
    "dbutils.fs.mount(\n",
    "  source = \"wasbs://input@databricksblobstorageacc.blob.core.windows.net/\",\n",
    "  mountPoint = \"/mnt/inputapril\",\n",
    "  extraConfigs = Map(config -> sas))"
   ]
  },
  {
   "cell_type": "code",
   "execution_count": 0,
   "metadata": {
    "application/vnd.databricks.v1+cell": {
     "cellMetadata": {
      "byteLimit": 2048000,
      "rowLimit": 10000
     },
     "inputWidgets": {},
     "nuid": "85d1ffa8-cd0e-401e-a39d-6e8514a6bc55",
     "showTitle": false,
     "tableResultSettingsMap": {},
     "title": ""
    }
   },
   "outputs": [
    {
     "output_type": "stream",
     "name": "stdout",
     "output_type": "stream",
     "text": [
      "Out[2]: [FileInfo(path='dbfs:/mnt/inputapril/menu_data.csv', name='menu_data.csv', size=26260, modificationTime=1745134832000)]"
     ]
    }
   ],
   "source": [
    "dbutils.fs.ls('/mnt/inputapril/')"
   ]
  },
  {
   "cell_type": "markdown",
   "metadata": {
    "application/vnd.databricks.v1+cell": {
     "cellMetadata": {},
     "inputWidgets": {},
     "nuid": "69e1c0a3-5518-4a5a-b54f-7a312cade74a",
     "showTitle": false,
     "tableResultSettingsMap": {},
     "title": ""
    }
   },
   "source": [
    "**To get the list of mounts**"
   ]
  },
  {
   "cell_type": "code",
   "execution_count": 0,
   "metadata": {
    "application/vnd.databricks.v1+cell": {
     "cellMetadata": {
      "byteLimit": 2048000,
      "rowLimit": 10000
     },
     "inputWidgets": {},
     "nuid": "3fa4964d-2b53-4c0d-a94c-3bdf5c9bec35",
     "showTitle": false,
     "tableResultSettingsMap": {},
     "title": ""
    }
   },
   "outputs": [
    {
     "output_type": "stream",
     "name": "stdout",
     "output_type": "stream",
     "text": [
      "Out[3]: [MountInfo(mountPoint='/databricks-datasets', source='databricks-datasets', encryptionType=''),\n MountInfo(mountPoint='/databricks/mlflow-tracking', source='databricks/mlflow-tracking', encryptionType='sse-s3'),\n MountInfo(mountPoint='/databricks-results', source='databricks-results', encryptionType='sse-s3'),\n MountInfo(mountPoint='/databricks/mlflow-registry', source='databricks/mlflow-registry', encryptionType='sse-s3'),\n MountInfo(mountPoint='/mnt/inputapril', source='wasbs://input@databricksblobstorageacc.blob.core.windows.net/', encryptionType=''),\n MountInfo(mountPoint='/', source='DatabricksRoot', encryptionType='sse-s3')]"
     ]
    }
   ],
   "source": [
    "dbutils.fs.mounts()"
   ]
  }
 ],
 "metadata": {
  "application/vnd.databricks.v1+notebook": {
   "computePreferences": null,
   "dashboards": [],
   "environmentMetadata": {
    "base_environment": "",
    "environment_version": "1"
   },
   "inputWidgetPreferences": null,
   "language": "python",
   "notebookMetadata": {
    "pythonIndentUnit": 4
   },
   "notebookName": "Mounting Blob Storage",
   "widgets": {}
  }
 },
 "nbformat": 4,
 "nbformat_minor": 0
}